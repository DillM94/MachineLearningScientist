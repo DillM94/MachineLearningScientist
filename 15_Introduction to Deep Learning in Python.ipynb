{
 "cells": [
  {
   "cell_type": "code",
   "execution_count": 73,
   "id": "d0a13a04-6949-4f28-b564-8777ab276fe1",
   "metadata": {},
   "outputs": [],
   "source": [
    "import numpy as np\n",
    "import pandas as pd\n",
    "from tensorflow.keras.layers import Dense\n",
    "from tensorflow.keras.models import Sequential\n",
    "from tensorflow.keras.utils import to_categorical\n",
    "from tensorflow.keras.callbacks import EarlyStopping"
   ]
  },
  {
   "cell_type": "markdown",
   "id": "453703e2-99ab-4f44-b496-1cacb6be605f",
   "metadata": {
    "tags": []
   },
   "source": [
    "# Basics of deep learning and neaural networks"
   ]
  },
  {
   "cell_type": "markdown",
   "id": "b2298f25-cd36-4244-b052-c378068fc6f2",
   "metadata": {},
   "source": [
    "## Forward Propogation"
   ]
  },
  {
   "cell_type": "markdown",
   "id": "2a3149ce-8908-46bb-b005-f4487de052f6",
   "metadata": {},
   "source": [
    "Forward prop is the initial pass through the model. Weights are applied to hidden layers and all the way through. Inputs -> Outputs. "
   ]
  },
  {
   "cell_type": "code",
   "execution_count": 2,
   "id": "e27d39a9-d559-45ab-baff-594189dce068",
   "metadata": {},
   "outputs": [
    {
     "name": "stdout",
     "output_type": "stream",
     "text": [
      "5 1\n"
     ]
    }
   ],
   "source": [
    "input_data = np.array([2, 3])\n",
    "weights = {'node_0':np.array([1,1]),\n",
    "           'node_1':np.array([-1,1]),\n",
    "           'output':np.array([2,-1])}\n",
    "node_0_value = (input_data*weights['node_0']).sum()\n",
    "node_1_value = (input_data*weights['node_1']).sum()\n",
    "\n",
    "print(node_0_value, node_1_value)"
   ]
  },
  {
   "cell_type": "code",
   "execution_count": 3,
   "id": "8b1f2ea5-01fb-4162-bee6-cd4ec525cffc",
   "metadata": {
    "tags": []
   },
   "outputs": [
    {
     "data": {
      "text/plain": [
       "9"
      ]
     },
     "execution_count": 3,
     "metadata": {},
     "output_type": "execute_result"
    }
   ],
   "source": [
    "hidden_layer = np.array([node_0_value, node_1_value])\n",
    "output = (hidden_layer*weights['output']).sum()\n",
    "output"
   ]
  },
  {
   "cell_type": "markdown",
   "id": "902e5a86-4b0a-4be1-bf31-d5132493c81d",
   "metadata": {},
   "source": [
    "## Activation Functions"
   ]
  },
  {
   "cell_type": "markdown",
   "id": "6616264c-245d-43e6-98ca-e1840600552d",
   "metadata": {},
   "source": [
    "Can be tought of as an on-off switch. "
   ]
  },
  {
   "cell_type": "code",
   "execution_count": 4,
   "id": "f19986b5-df86-4d0e-a4f4-0519a1f0cf08",
   "metadata": {},
   "outputs": [
    {
     "data": {
      "text/plain": [
       "1.2382242525694254"
      ]
     },
     "execution_count": 4,
     "metadata": {},
     "output_type": "execute_result"
    }
   ],
   "source": [
    "input_data = np.array([2, 3])\n",
    "weights = {'node_0':np.array([1,1]),\n",
    "           'node_1':np.array([-1,1]),\n",
    "           'output':np.array([2,-1])}\n",
    "\n",
    "\n",
    "node_0_value = (input_data*weights['node_0']).sum()\n",
    "node_0_output = np.tanh(node_0_value)\n",
    "\n",
    "node_1_value = (input_data*weights['node_1']).sum()\n",
    "node_1_output = np.tanh(node_1_value)\n",
    "\n",
    "hidden_layer = np.array([node_0_output, node_1_output])\n",
    "output = (hidden_layer*weights['output']).sum()\n",
    "output"
   ]
  },
  {
   "cell_type": "markdown",
   "id": "8dfc0cfb-5177-4979-bbb8-f6d00a40b794",
   "metadata": {},
   "source": [
    "## Deep Neural Networks"
   ]
  },
  {
   "cell_type": "code",
   "execution_count": 5,
   "id": "05170354-fb63-476b-8053-3ad05fab5566",
   "metadata": {},
   "outputs": [],
   "source": [
    "input_data\n",
    "weights = {'node_0_0': np.array([2, 4]),\n",
    "           'node_0_1': np.array([4, -5]),\n",
    "           'node_1_0': np.array([-1, 2]),\n",
    "           'node_1_1': np.array([1, 2]),\n",
    "           'output': np.array([2, 7])}"
   ]
  },
  {
   "cell_type": "code",
   "execution_count": 6,
   "id": "514ced65-705b-4bbc-9055-872bbbe9762b",
   "metadata": {},
   "outputs": [],
   "source": [
    "def relu(input_data):\n",
    "    result = max(0, input_data)\n",
    "    return result"
   ]
  },
  {
   "cell_type": "code",
   "execution_count": 7,
   "id": "70635cf2-5b8b-43cb-ad6d-8bf825fb3499",
   "metadata": {},
   "outputs": [],
   "source": [
    "def predict_network(input_data, weights):\n",
    "    \n",
    "    node_0_0_in = (input_data*weights['node_0_0']).sum()\n",
    "    node_0_0_out = relu(node_0_0_in)\n",
    "    \n",
    "    node_0_1_in = (input_data*weights['node_0_1']).sum()\n",
    "    node_0_1_out = relu(node_0_1_in)\n",
    "    \n",
    "    hidden_0_output = np.array([node_0_0_out, node_0_1_out])\n",
    "    \n",
    "    node_1_0_in = (hidden_0_output*weights['node_1_0']).sum()\n",
    "    node_1_0_out = relu(node_1_0_in)\n",
    "    \n",
    "    node_1_1_in = (hidden_0_output*weights['node_1_1']).sum()\n",
    "    node_1_1_out = relu(node_1_1_in)\n",
    "    \n",
    "    hidden_1_output = np.array([node_1_0_out, node_1_1_out])\n",
    "    \n",
    "    model_output = (hidden_1_output*weights['output']).sum()\n",
    "    \n",
    "    return model_output"
   ]
  },
  {
   "cell_type": "code",
   "execution_count": 8,
   "id": "a3a684fd-4da7-436c-8667-aa3ae3b17777",
   "metadata": {},
   "outputs": [
    {
     "data": {
      "text/plain": [
       "112"
      ]
     },
     "execution_count": 8,
     "metadata": {},
     "output_type": "execute_result"
    }
   ],
   "source": [
    "predict_network(input_data, weights)"
   ]
  },
  {
   "cell_type": "markdown",
   "id": "b34ecb51-21fd-4107-898c-48a074fd403f",
   "metadata": {},
   "source": [
    "# Optimizing a Neural Network with Back Prop"
   ]
  },
  {
   "cell_type": "markdown",
   "id": "ea8fbb11-87fe-40ab-b130-3dfa0d35c1c0",
   "metadata": {},
   "source": [
    "## The need for optimisation"
   ]
  },
  {
   "cell_type": "markdown",
   "id": "2d1cccd6-fced-4ad4-9fd6-13a2d8beea1e",
   "metadata": {},
   "source": [
    "Weights need to change after each iteration to closer match the actual patterns. "
   ]
  },
  {
   "cell_type": "code",
   "execution_count": 9,
   "id": "2c45c574-848f-4614-b0fc-65c17a26c5bc",
   "metadata": {},
   "outputs": [
    {
     "data": {
      "text/plain": [
       "-2"
      ]
     },
     "execution_count": 9,
     "metadata": {},
     "output_type": "execute_result"
    }
   ],
   "source": [
    "learning_rate = 0.01\n",
    "weights = np.array([1, 2])\n",
    "target = 10\n",
    "\n",
    "preds = (input_data * weights).sum()\n",
    "\n",
    "error = preds - target\n",
    "\n",
    "error"
   ]
  },
  {
   "cell_type": "code",
   "execution_count": 10,
   "id": "097c131e-ae98-48ea-8017-b28bad246a73",
   "metadata": {},
   "outputs": [],
   "source": [
    "gradient = 2 * input_data * error"
   ]
  },
  {
   "cell_type": "code",
   "execution_count": 11,
   "id": "e6173d0f-223b-4e51-a98c-9ca7245ec4e0",
   "metadata": {},
   "outputs": [
    {
     "data": {
      "text/plain": [
       "-1.4800000000000004"
      ]
     },
     "execution_count": 11,
     "metadata": {},
     "output_type": "execute_result"
    }
   ],
   "source": [
    "weights_updated = weights - gradient*learning_rate\n",
    "preds_updated = (input_data*weights_updated).sum()\n",
    "error_updated = preds_updated - target\n",
    "error_updated"
   ]
  },
  {
   "cell_type": "code",
   "execution_count": 12,
   "id": "9d1aa104-ac8e-424f-8bb5-3ac655d26472",
   "metadata": {},
   "outputs": [
    {
     "data": {
      "text/plain": [
       "-0.9599999999999991"
      ]
     },
     "execution_count": 12,
     "metadata": {},
     "output_type": "execute_result"
    }
   ],
   "source": [
    "weights_updated = weights_updated - gradient*learning_rate\n",
    "preds_updated = (input_data*weights_updated).sum()\n",
    "error_updated = preds_updated - target\n",
    "error_updated"
   ]
  },
  {
   "cell_type": "code",
   "execution_count": 13,
   "id": "434d6822-b22f-41b3-a718-19d1dea3a66f",
   "metadata": {},
   "outputs": [
    {
     "data": {
      "text/plain": [
       "-0.4399999999999977"
      ]
     },
     "execution_count": 13,
     "metadata": {},
     "output_type": "execute_result"
    }
   ],
   "source": [
    "weights_updated = weights_updated - gradient*learning_rate\n",
    "preds_updated = (input_data*weights_updated).sum()\n",
    "error_updated = preds_updated - target\n",
    "error_updated"
   ]
  },
  {
   "cell_type": "markdown",
   "id": "5169fb9f-d574-4059-a843-d070cfc5f72f",
   "metadata": {},
   "source": [
    "# Building Deep Learning Models with Keras"
   ]
  },
  {
   "cell_type": "markdown",
   "id": "c96ca32e-2f31-43b7-b8ff-555e809469c6",
   "metadata": {},
   "source": [
    "## Creating a Keras Model"
   ]
  },
  {
   "cell_type": "code",
   "execution_count": 16,
   "id": "de916708-cd4d-4ce0-8b7f-df79b85c4d7b",
   "metadata": {},
   "outputs": [
    {
     "data": {
      "text/html": [
       "<div>\n",
       "<style scoped>\n",
       "    .dataframe tbody tr th:only-of-type {\n",
       "        vertical-align: middle;\n",
       "    }\n",
       "\n",
       "    .dataframe tbody tr th {\n",
       "        vertical-align: top;\n",
       "    }\n",
       "\n",
       "    .dataframe thead th {\n",
       "        text-align: right;\n",
       "    }\n",
       "</style>\n",
       "<table border=\"1\" class=\"dataframe\">\n",
       "  <thead>\n",
       "    <tr style=\"text-align: right;\">\n",
       "      <th></th>\n",
       "      <th>wage_per_hour</th>\n",
       "      <th>union</th>\n",
       "      <th>education_yrs</th>\n",
       "      <th>experience_yrs</th>\n",
       "      <th>age</th>\n",
       "      <th>female</th>\n",
       "      <th>marr</th>\n",
       "      <th>south</th>\n",
       "      <th>manufacturing</th>\n",
       "      <th>construction</th>\n",
       "    </tr>\n",
       "  </thead>\n",
       "  <tbody>\n",
       "    <tr>\n",
       "      <th>0</th>\n",
       "      <td>5.10</td>\n",
       "      <td>0</td>\n",
       "      <td>8</td>\n",
       "      <td>21</td>\n",
       "      <td>35</td>\n",
       "      <td>1</td>\n",
       "      <td>1</td>\n",
       "      <td>0</td>\n",
       "      <td>1</td>\n",
       "      <td>0</td>\n",
       "    </tr>\n",
       "    <tr>\n",
       "      <th>1</th>\n",
       "      <td>4.95</td>\n",
       "      <td>0</td>\n",
       "      <td>9</td>\n",
       "      <td>42</td>\n",
       "      <td>57</td>\n",
       "      <td>1</td>\n",
       "      <td>1</td>\n",
       "      <td>0</td>\n",
       "      <td>1</td>\n",
       "      <td>0</td>\n",
       "    </tr>\n",
       "    <tr>\n",
       "      <th>2</th>\n",
       "      <td>6.67</td>\n",
       "      <td>0</td>\n",
       "      <td>12</td>\n",
       "      <td>1</td>\n",
       "      <td>19</td>\n",
       "      <td>0</td>\n",
       "      <td>0</td>\n",
       "      <td>0</td>\n",
       "      <td>1</td>\n",
       "      <td>0</td>\n",
       "    </tr>\n",
       "    <tr>\n",
       "      <th>3</th>\n",
       "      <td>4.00</td>\n",
       "      <td>0</td>\n",
       "      <td>12</td>\n",
       "      <td>4</td>\n",
       "      <td>22</td>\n",
       "      <td>0</td>\n",
       "      <td>0</td>\n",
       "      <td>0</td>\n",
       "      <td>0</td>\n",
       "      <td>0</td>\n",
       "    </tr>\n",
       "    <tr>\n",
       "      <th>4</th>\n",
       "      <td>7.50</td>\n",
       "      <td>0</td>\n",
       "      <td>12</td>\n",
       "      <td>17</td>\n",
       "      <td>35</td>\n",
       "      <td>0</td>\n",
       "      <td>1</td>\n",
       "      <td>0</td>\n",
       "      <td>0</td>\n",
       "      <td>0</td>\n",
       "    </tr>\n",
       "  </tbody>\n",
       "</table>\n",
       "</div>"
      ],
      "text/plain": [
       "   wage_per_hour  union  education_yrs  experience_yrs  age  female  marr  \\\n",
       "0           5.10      0              8              21   35       1     1   \n",
       "1           4.95      0              9              42   57       1     1   \n",
       "2           6.67      0             12               1   19       0     0   \n",
       "3           4.00      0             12               4   22       0     0   \n",
       "4           7.50      0             12              17   35       0     1   \n",
       "\n",
       "   south  manufacturing  construction  \n",
       "0      0              1             0  \n",
       "1      0              1             0  \n",
       "2      0              1             0  \n",
       "3      0              0             0  \n",
       "4      0              0             0  "
      ]
     },
     "execution_count": 16,
     "metadata": {},
     "output_type": "execute_result"
    }
   ],
   "source": [
    "data = pd.read_csv('/Users/Dillon/OneDrive/Documents/DataCampML/hourly_wages.csv')\n",
    "data.head()"
   ]
  },
  {
   "cell_type": "code",
   "execution_count": 18,
   "id": "33138095-4dda-441e-a20b-5e8baf19becd",
   "metadata": {},
   "outputs": [],
   "source": [
    "target = data.iloc[:,0]\n",
    "predictors = data.iloc[:,1:]"
   ]
  },
  {
   "cell_type": "code",
   "execution_count": 19,
   "id": "ac112570-f1da-479b-85eb-509879f10a92",
   "metadata": {},
   "outputs": [
    {
     "data": {
      "text/plain": [
       "9"
      ]
     },
     "execution_count": 19,
     "metadata": {},
     "output_type": "execute_result"
    }
   ],
   "source": [
    "n_cols = predictors.shape[1]\n",
    "n_cols"
   ]
  },
  {
   "cell_type": "code",
   "execution_count": 20,
   "id": "699885b7-d795-4a7c-a8df-93676c793074",
   "metadata": {},
   "outputs": [
    {
     "name": "stderr",
     "output_type": "stream",
     "text": [
      "2021-10-31 12:28:19.634753: I tensorflow/core/platform/cpu_feature_guard.cc:142] This TensorFlow binary is optimized with oneAPI Deep Neural Network Library (oneDNN) to use the following CPU instructions in performance-critical operations:  SSE4.1 SSE4.2\n",
      "To enable them in other operations, rebuild TensorFlow with the appropriate compiler flags.\n"
     ]
    }
   ],
   "source": [
    "model = Sequential()\n",
    "model.add(Dense(100, activation = 'relu', input_shape = (n_cols,)))\n",
    "model.add(Dense(100, activation = 'relu'))\n",
    "model.add(Dense(1))"
   ]
  },
  {
   "cell_type": "markdown",
   "id": "d2f6c0fe-1b21-4239-bd55-da2594f077b4",
   "metadata": {},
   "source": [
    "## Compiling and Fitting a Model"
   ]
  },
  {
   "cell_type": "markdown",
   "id": "fe7e4230-f308-40b8-8e9f-d7ef92f08112",
   "metadata": {},
   "source": [
    "Need to choose: \n",
    "- Optimisation algorithm\n",
    "- Loss metric"
   ]
  },
  {
   "cell_type": "code",
   "execution_count": 27,
   "id": "a3f659fc-4fdc-40e3-93ae-c4fa31c14855",
   "metadata": {},
   "outputs": [
    {
     "name": "stdout",
     "output_type": "stream",
     "text": [
      "Epoch 1/2\n",
      "17/17 [==============================] - 0s 654us/step - loss: 20.1077\n",
      "Epoch 2/2\n",
      "17/17 [==============================] - 0s 661us/step - loss: 17.0600\n"
     ]
    },
    {
     "data": {
      "text/plain": [
       "<tensorflow.python.keras.callbacks.History at 0x7f82708864f0>"
      ]
     },
     "execution_count": 27,
     "metadata": {},
     "output_type": "execute_result"
    }
   ],
   "source": [
    "model.compile(optimizer = 'adam', loss = 'mean_squared_error')\n",
    "model.fit(predictors, target, epochs = 2)"
   ]
  },
  {
   "cell_type": "markdown",
   "id": "3b2401b3-cb6b-4fde-85a8-2a3d0f0fb814",
   "metadata": {},
   "source": [
    "## Classification Problems"
   ]
  },
  {
   "cell_type": "code",
   "execution_count": 29,
   "id": "264bde6a-aef3-4b35-bdc7-bedeff75ca14",
   "metadata": {},
   "outputs": [
    {
     "data": {
      "text/html": [
       "<div>\n",
       "<style scoped>\n",
       "    .dataframe tbody tr th:only-of-type {\n",
       "        vertical-align: middle;\n",
       "    }\n",
       "\n",
       "    .dataframe tbody tr th {\n",
       "        vertical-align: top;\n",
       "    }\n",
       "\n",
       "    .dataframe thead th {\n",
       "        text-align: right;\n",
       "    }\n",
       "</style>\n",
       "<table border=\"1\" class=\"dataframe\">\n",
       "  <thead>\n",
       "    <tr style=\"text-align: right;\">\n",
       "      <th></th>\n",
       "      <th>survived</th>\n",
       "      <th>pclass</th>\n",
       "      <th>age</th>\n",
       "      <th>sibsp</th>\n",
       "      <th>parch</th>\n",
       "      <th>fare</th>\n",
       "      <th>male</th>\n",
       "      <th>age_was_missing</th>\n",
       "      <th>embarked_from_cherbourg</th>\n",
       "      <th>embarked_from_queenstown</th>\n",
       "      <th>embarked_from_southampton</th>\n",
       "    </tr>\n",
       "  </thead>\n",
       "  <tbody>\n",
       "    <tr>\n",
       "      <th>0</th>\n",
       "      <td>0</td>\n",
       "      <td>3</td>\n",
       "      <td>22.0</td>\n",
       "      <td>1</td>\n",
       "      <td>0</td>\n",
       "      <td>7.2500</td>\n",
       "      <td>1</td>\n",
       "      <td>False</td>\n",
       "      <td>0</td>\n",
       "      <td>0</td>\n",
       "      <td>1</td>\n",
       "    </tr>\n",
       "    <tr>\n",
       "      <th>1</th>\n",
       "      <td>1</td>\n",
       "      <td>1</td>\n",
       "      <td>38.0</td>\n",
       "      <td>1</td>\n",
       "      <td>0</td>\n",
       "      <td>71.2833</td>\n",
       "      <td>0</td>\n",
       "      <td>False</td>\n",
       "      <td>1</td>\n",
       "      <td>0</td>\n",
       "      <td>0</td>\n",
       "    </tr>\n",
       "    <tr>\n",
       "      <th>2</th>\n",
       "      <td>1</td>\n",
       "      <td>3</td>\n",
       "      <td>26.0</td>\n",
       "      <td>0</td>\n",
       "      <td>0</td>\n",
       "      <td>7.9250</td>\n",
       "      <td>0</td>\n",
       "      <td>False</td>\n",
       "      <td>0</td>\n",
       "      <td>0</td>\n",
       "      <td>1</td>\n",
       "    </tr>\n",
       "    <tr>\n",
       "      <th>3</th>\n",
       "      <td>1</td>\n",
       "      <td>1</td>\n",
       "      <td>35.0</td>\n",
       "      <td>1</td>\n",
       "      <td>0</td>\n",
       "      <td>53.1000</td>\n",
       "      <td>0</td>\n",
       "      <td>False</td>\n",
       "      <td>0</td>\n",
       "      <td>0</td>\n",
       "      <td>1</td>\n",
       "    </tr>\n",
       "    <tr>\n",
       "      <th>4</th>\n",
       "      <td>0</td>\n",
       "      <td>3</td>\n",
       "      <td>35.0</td>\n",
       "      <td>0</td>\n",
       "      <td>0</td>\n",
       "      <td>8.0500</td>\n",
       "      <td>1</td>\n",
       "      <td>False</td>\n",
       "      <td>0</td>\n",
       "      <td>0</td>\n",
       "      <td>1</td>\n",
       "    </tr>\n",
       "  </tbody>\n",
       "</table>\n",
       "</div>"
      ],
      "text/plain": [
       "   survived  pclass   age  sibsp  parch     fare  male  age_was_missing  \\\n",
       "0         0       3  22.0      1      0   7.2500     1            False   \n",
       "1         1       1  38.0      1      0  71.2833     0            False   \n",
       "2         1       3  26.0      0      0   7.9250     0            False   \n",
       "3         1       1  35.0      1      0  53.1000     0            False   \n",
       "4         0       3  35.0      0      0   8.0500     1            False   \n",
       "\n",
       "   embarked_from_cherbourg  embarked_from_queenstown  \\\n",
       "0                        0                         0   \n",
       "1                        1                         0   \n",
       "2                        0                         0   \n",
       "3                        0                         0   \n",
       "4                        0                         0   \n",
       "\n",
       "   embarked_from_southampton  \n",
       "0                          1  \n",
       "1                          0  \n",
       "2                          1  \n",
       "3                          1  \n",
       "4                          1  "
      ]
     },
     "execution_count": 29,
     "metadata": {},
     "output_type": "execute_result"
    }
   ],
   "source": [
    "titanic = pd.read_csv('/Users/Dillon/OneDrive/Documents/DataCampML/titanic_all_numeric.csv')\n",
    "titanic.head()"
   ]
  },
  {
   "cell_type": "code",
   "execution_count": 32,
   "id": "0bd53605-33ee-4436-9cf3-d32ce4831987",
   "metadata": {},
   "outputs": [
    {
     "data": {
      "text/plain": [
       "array([[1., 0.],\n",
       "       [0., 1.],\n",
       "       [0., 1.],\n",
       "       ...,\n",
       "       [1., 0.],\n",
       "       [0., 1.],\n",
       "       [1., 0.]], dtype=float32)"
      ]
     },
     "execution_count": 32,
     "metadata": {},
     "output_type": "execute_result"
    }
   ],
   "source": [
    "target = to_categorical(titanic['survived'])\n",
    "target"
   ]
  },
  {
   "cell_type": "code",
   "execution_count": 53,
   "id": "3bfdf028-564c-4eb8-b552-1b5004d8a6b7",
   "metadata": {},
   "outputs": [
    {
     "data": {
      "text/plain": [
       "array([[ 3.      , 22.      ,  1.      , ...,  0.      ,  0.      ,\n",
       "         1.      ],\n",
       "       [ 1.      , 38.      ,  1.      , ...,  1.      ,  0.      ,\n",
       "         0.      ],\n",
       "       [ 3.      , 26.      ,  0.      , ...,  0.      ,  0.      ,\n",
       "         1.      ],\n",
       "       ...,\n",
       "       [ 3.      , 29.699118,  1.      , ...,  0.      ,  0.      ,\n",
       "         1.      ],\n",
       "       [ 1.      , 26.      ,  0.      , ...,  1.      ,  0.      ,\n",
       "         0.      ],\n",
       "       [ 3.      , 32.      ,  0.      , ...,  0.      ,  1.      ,\n",
       "         0.      ]], dtype=float32)"
      ]
     },
     "execution_count": 53,
     "metadata": {},
     "output_type": "execute_result"
    }
   ],
   "source": [
    "predictors = titanic.iloc[:, 1:].to_numpy()\n",
    "predictors = np.asarray(predictors).astype('float32')\n",
    "predictors"
   ]
  },
  {
   "cell_type": "code",
   "execution_count": 54,
   "id": "2cce0d92-4436-4b01-8b21-0f33aec317f9",
   "metadata": {},
   "outputs": [
    {
     "name": "stdout",
     "output_type": "stream",
     "text": [
      "28/28 [==============================] - 0s 453us/step - loss: 4.1457 - accuracy: 0.5792\n"
     ]
    },
    {
     "data": {
      "text/plain": [
       "<tensorflow.python.keras.callbacks.History at 0x7f8291f97e20>"
      ]
     },
     "execution_count": 54,
     "metadata": {},
     "output_type": "execute_result"
    }
   ],
   "source": [
    "n_cols = predictors.shape[1]\n",
    "classifier = Sequential()\n",
    "classifier.add(Dense(32, activation = 'relu', input_shape = (n_cols,)))\n",
    "classifier.add(Dense(2, activation = 'softmax'))\n",
    "\n",
    "classifier.compile(optimizer = 'sgd', loss = 'categorical_crossentropy', metrics = ['accuracy'])\n",
    "\n",
    "classifier.fit(predictors, target)"
   ]
  },
  {
   "cell_type": "code",
   "execution_count": 61,
   "id": "b60b3405-7971-46ae-a297-45f485d8fd38",
   "metadata": {},
   "outputs": [
    {
     "name": "stdout",
     "output_type": "stream",
     "text": [
      "Model: \"sequential_7\"\n",
      "_________________________________________________________________\n",
      "Layer (type)                 Output Shape              Param #   \n",
      "=================================================================\n",
      "dense_12 (Dense)             (None, 32)                352       \n",
      "_________________________________________________________________\n",
      "dense_13 (Dense)             (None, 2)                 66        \n",
      "=================================================================\n",
      "Total params: 418\n",
      "Trainable params: 418\n",
      "Non-trainable params: 0\n",
      "_________________________________________________________________\n"
     ]
    }
   ],
   "source": [
    "classifier.summary()"
   ]
  },
  {
   "cell_type": "code",
   "execution_count": 63,
   "id": "3e60f85c-27e1-4659-82bd-4991e0631cbe",
   "metadata": {
    "tags": []
   },
   "outputs": [],
   "source": [
    "new_predictor = np.array([[3., 25.,  1.,  0.,  8.25,  1.,  0.,  0.,  0., 1.]], dtype = 'float32')\n",
    "new_target = np.array([1., 0.])"
   ]
  },
  {
   "cell_type": "code",
   "execution_count": 64,
   "id": "70cf3455-81b4-4b06-9e6f-5358d75eb908",
   "metadata": {},
   "outputs": [
    {
     "data": {
      "text/plain": [
       "10"
      ]
     },
     "execution_count": 64,
     "metadata": {},
     "output_type": "execute_result"
    }
   ],
   "source": [
    "new_predictor.shape[1]"
   ]
  },
  {
   "cell_type": "code",
   "execution_count": 69,
   "id": "b88c7d29-b15a-4e0d-823b-9d27a10c19e4",
   "metadata": {},
   "outputs": [
    {
     "data": {
      "text/plain": [
       "0.96159613"
      ]
     },
     "execution_count": 69,
     "metadata": {},
     "output_type": "execute_result"
    }
   ],
   "source": [
    "# Probability they survived\n",
    "proba = classifier.predict(new_predictor)\n",
    "proba[0][0]"
   ]
  },
  {
   "cell_type": "markdown",
   "id": "ba2b242b-31b5-4f4a-87e8-bf5c07368279",
   "metadata": {},
   "source": [
    "# Fine-Tuning a Model"
   ]
  },
  {
   "cell_type": "markdown",
   "id": "f80730df-6345-4c96-8e70-77b738cee449",
   "metadata": {},
   "source": [
    "## Model Validation"
   ]
  },
  {
   "cell_type": "code",
   "execution_count": 71,
   "id": "b7cdc344-6153-4464-8647-4e3a4a4526c2",
   "metadata": {},
   "outputs": [
    {
     "name": "stdout",
     "output_type": "stream",
     "text": [
      "20/20 [==============================] - 0s 7ms/step - loss: 0.9212 - accuracy: 0.5987 - val_loss: 1.9657 - val_accuracy: 0.6418\n"
     ]
    },
    {
     "data": {
      "text/plain": [
       "<tensorflow.python.keras.callbacks.History at 0x7f82920b5520>"
      ]
     },
     "execution_count": 71,
     "metadata": {},
     "output_type": "execute_result"
    }
   ],
   "source": [
    "classifier.fit(predictors, target, validation_split = 0.3)"
   ]
  },
  {
   "cell_type": "code",
   "execution_count": 75,
   "id": "72433821-9bdb-429b-92ee-041320b38473",
   "metadata": {},
   "outputs": [
    {
     "name": "stdout",
     "output_type": "stream",
     "text": [
      "Epoch 1/20\n",
      "20/20 [==============================] - 0s 3ms/step - loss: 0.7744 - accuracy: 0.5971 - val_loss: 0.5268 - val_accuracy: 0.7164\n",
      "Epoch 2/20\n",
      "20/20 [==============================] - 0s 1ms/step - loss: 0.6529 - accuracy: 0.6581 - val_loss: 0.5333 - val_accuracy: 0.7090\n",
      "Epoch 3/20\n",
      "20/20 [==============================] - 0s 1ms/step - loss: 0.6270 - accuracy: 0.6677 - val_loss: 0.6227 - val_accuracy: 0.6866\n"
     ]
    },
    {
     "data": {
      "text/plain": [
       "<tensorflow.python.keras.callbacks.History at 0x7f826490bc10>"
      ]
     },
     "execution_count": 75,
     "metadata": {},
     "output_type": "execute_result"
    }
   ],
   "source": [
    "early = EarlyStopping(patience = 2)\n",
    "classifier.fit(predictors, target, validation_split = 0.3, epochs = 20, callbacks = [early])"
   ]
  }
 ],
 "metadata": {
  "kernelspec": {
   "display_name": "Python 3 (ipykernel)",
   "language": "python",
   "name": "python3"
  },
  "language_info": {
   "codemirror_mode": {
    "name": "ipython",
    "version": 3
   },
   "file_extension": ".py",
   "mimetype": "text/x-python",
   "name": "python",
   "nbconvert_exporter": "python",
   "pygments_lexer": "ipython3",
   "version": "3.8.12"
  }
 },
 "nbformat": 4,
 "nbformat_minor": 5
}
