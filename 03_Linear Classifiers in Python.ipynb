{
 "cells": [
  {
   "cell_type": "code",
   "execution_count": 74,
   "source": [
    "import numpy as np\r\n",
    "import pandas as pd\r\n",
    "import matplotlib.pyplot as plt\r\n",
    "import sklearn.datasets\r\n",
    "\r\n",
    "from sklearn.neighbors import KNeighborsClassifier\r\n",
    "from sklearn.model_selection import train_test_split\r\n",
    "from sklearn.linear_model import LogisticRegression\r\n",
    "from sklearn.svm import LinearSVC, SVC\r\n",
    "from sklearn.preprocessing import StandardScaler\r\n",
    "from sklearn.pipeline import Pipeline"
   ],
   "outputs": [],
   "metadata": {}
  },
  {
   "cell_type": "code",
   "execution_count": 141,
   "source": [
    "def plot_decision_boundary(pred_func): \r\n",
    "    # Set min and max values and give it some padding \r\n",
    "    x_min, x_max = X[:, 0].min() - .5, X[:, 0].max() + .5 \r\n",
    "    y_min, y_max = X[:, 1].min() - .5, X[:, 1].max() + .5 \r\n",
    "    h = 0.01 \r\n",
    "    # Generate a grid of points with distance h between them \r\n",
    "    xx, yy = np.meshgrid(np.arange(x_min, x_max, h), np.arange(y_min, y_max, h)) \r\n",
    "    # Predict the function value for the whole gid \r\n",
    "    Z = pred_func(np.c_[xx.ravel(), yy.ravel()]) \r\n",
    "    Z = Z.reshape(xx.shape) \r\n",
    "    # Plot the contour and training examples \r\n",
    "    plt.contourf(xx, yy, Z, cmap=plt.cm.Spectral) \r\n",
    "    plt.scatter(X[:, 0], X[:, 1], c=y, cmap=plt.cm.Spectral) "
   ],
   "outputs": [],
   "metadata": {}
  },
  {
   "cell_type": "markdown",
   "source": [
    "# Applying logisitc regression and SVM\r\n"
   ],
   "metadata": {}
  },
  {
   "cell_type": "markdown",
   "source": [
    "Below is a quick refresher on classifiers using KNN:"
   ],
   "metadata": {}
  },
  {
   "cell_type": "code",
   "execution_count": 59,
   "source": [
    "newsgroups = sklearn.datasets.fetch_20newsgroups_vectorized()\r\n",
    "\r\n",
    "X_news = newsgroups['data']\r\n",
    "y_news = newsgroups['target']\r\n",
    "\r\n",
    "X_news.shape, y_news.shape"
   ],
   "outputs": [
    {
     "output_type": "execute_result",
     "data": {
      "text/plain": [
       "((11314, 130107), (11314,))"
      ]
     },
     "metadata": {},
     "execution_count": 59
    }
   ],
   "metadata": {}
  },
  {
   "cell_type": "code",
   "execution_count": 142,
   "source": [
    "X_train, X_valid, y_train, y_valid = train_test_split(X_news, y_news, test_size = 0.2, random_state = 0)\r\n",
    "\r\n",
    "knn_model = KNeighborsClassifier(n_neighbors=1)\r\n",
    "knn_model.fit(X_train, y_train)\r\n",
    "\r\n",
    "knn_model.score(X_valid, y_valid)"
   ],
   "outputs": [
    {
     "output_type": "execute_result",
     "data": {
      "text/plain": [
       "0.6858152894387981"
      ]
     },
     "metadata": {},
     "execution_count": 142
    }
   ],
   "metadata": {}
  },
  {
   "cell_type": "markdown",
   "source": [
    "Using logisitic regression:"
   ],
   "metadata": {}
  },
  {
   "cell_type": "code",
   "execution_count": 143,
   "source": [
    "lr_model = LogisticRegression()\r\n",
    "lr_model.fit(X_train, y_train)\r\n",
    "lr_model.score(X_valid, y_valid)"
   ],
   "outputs": [
    {
     "output_type": "stream",
     "name": "stderr",
     "text": [
      "C:\\Users\\Dillon\\anaconda3\\lib\\site-packages\\sklearn\\linear_model\\_logistic.py:763: ConvergenceWarning: lbfgs failed to converge (status=1):\n",
      "STOP: TOTAL NO. of ITERATIONS REACHED LIMIT.\n",
      "\n",
      "Increase the number of iterations (max_iter) or scale the data as shown in:\n",
      "    https://scikit-learn.org/stable/modules/preprocessing.html\n",
      "Please also refer to the documentation for alternative solver options:\n",
      "    https://scikit-learn.org/stable/modules/linear_model.html#logistic-regression\n",
      "  n_iter_i = _check_optimize_result(\n"
     ]
    },
    {
     "output_type": "execute_result",
     "data": {
      "text/plain": [
       "0.7808219178082192"
      ]
     },
     "metadata": {},
     "execution_count": 143
    }
   ],
   "metadata": {}
  },
  {
   "cell_type": "markdown",
   "source": [
    "Logistic Regression also allows us to view confidence intervals for each class. \r\n",
    "- CI is given across all features per sample."
   ],
   "metadata": {}
  },
  {
   "cell_type": "code",
   "execution_count": 62,
   "source": [
    "lr_model.predict_proba(X_train[:1])"
   ],
   "outputs": [
    {
     "output_type": "execute_result",
     "data": {
      "text/plain": [
       "array([[0.02450943, 0.09637763, 0.03534174, 0.03861702, 0.02956403,\n",
       "        0.09433779, 0.08854998, 0.02142866, 0.04133822, 0.03083828,\n",
       "        0.01238473, 0.05345561, 0.05006134, 0.12328024, 0.172922  ,\n",
       "        0.0108018 , 0.01860563, 0.01264648, 0.01985259, 0.0250868 ]])"
      ]
     },
     "metadata": {},
     "execution_count": 62
    }
   ],
   "metadata": {}
  },
  {
   "cell_type": "markdown",
   "source": [
    "And using SVM:"
   ],
   "metadata": {}
  },
  {
   "cell_type": "code",
   "execution_count": 63,
   "source": [
    "s_model = LinearSVC()\r\n",
    "s_model.fit(X_train, y_train)\r\n",
    "s_model.score(X_valid, y_valid)"
   ],
   "outputs": [
    {
     "output_type": "execute_result",
     "data": {
      "text/plain": [
       "0.901458241272647"
      ]
     },
     "metadata": {},
     "execution_count": 63
    }
   ],
   "metadata": {}
  },
  {
   "cell_type": "markdown",
   "source": [
    "Or the SVC only:"
   ],
   "metadata": {}
  },
  {
   "cell_type": "code",
   "execution_count": 64,
   "source": [
    "svc_model = SVC()\r\n",
    "svc_model.fit(X_train, y_train)\r\n",
    "svc_model.score(X_valid, y_valid)"
   ],
   "outputs": [
    {
     "output_type": "execute_result",
     "data": {
      "text/plain": [
       "0.8188245691559877"
      ]
     },
     "metadata": {},
     "execution_count": 64
    }
   ],
   "metadata": {}
  },
  {
   "cell_type": "markdown",
   "source": [
    "# Loss Functions"
   ],
   "metadata": {}
  },
  {
   "cell_type": "markdown",
   "source": [
    "In sklearn <b>linear classifiers</b> predict by applying the following formula then checking its sign:\r\n",
    "\r\n",
    "    raw_model_output = coefficients@features + intercept (@ = dot)\r\n",
    "        If + predict A\r\n",
    "        if - predict B\r\n",
    "\r\n",
    "In essence, coefficients model the slope of the boundary and the intercept shifts it. "
   ],
   "metadata": {}
  },
  {
   "cell_type": "code",
   "execution_count": 65,
   "source": [
    "breast = sklearn.datasets.load_breast_cancer()\r\n",
    "\r\n",
    "X = breast['data']\r\n",
    "y = breast['target']\r\n",
    "\r\n",
    "X.shape, y.shape"
   ],
   "outputs": [
    {
     "output_type": "execute_result",
     "data": {
      "text/plain": [
       "((569, 30), (569,))"
      ]
     },
     "metadata": {},
     "execution_count": 65
    }
   ],
   "metadata": {}
  },
  {
   "cell_type": "code",
   "execution_count": 66,
   "source": [
    "lr_model = LogisticRegression()\r\n",
    "lr_model.fit(X, y)"
   ],
   "outputs": [
    {
     "output_type": "stream",
     "name": "stderr",
     "text": [
      "C:\\Users\\Dillon\\anaconda3\\lib\\site-packages\\sklearn\\linear_model\\_logistic.py:763: ConvergenceWarning: lbfgs failed to converge (status=1):\n",
      "STOP: TOTAL NO. of ITERATIONS REACHED LIMIT.\n",
      "\n",
      "Increase the number of iterations (max_iter) or scale the data as shown in:\n",
      "    https://scikit-learn.org/stable/modules/preprocessing.html\n",
      "Please also refer to the documentation for alternative solver options:\n",
      "    https://scikit-learn.org/stable/modules/linear_model.html#logistic-regression\n",
      "  n_iter_i = _check_optimize_result(\n"
     ]
    },
    {
     "output_type": "execute_result",
     "data": {
      "text/plain": [
       "LogisticRegression()"
      ]
     },
     "metadata": {},
     "execution_count": 66
    }
   ],
   "metadata": {}
  },
  {
   "cell_type": "code",
   "execution_count": 67,
   "source": [
    "print(lr_model.predict(X)[10])\r\n",
    "print(lr_model.predict(X)[20])"
   ],
   "outputs": [
    {
     "output_type": "stream",
     "name": "stdout",
     "text": [
      "0\n",
      "1\n"
     ]
    }
   ],
   "metadata": {}
  },
  {
   "cell_type": "code",
   "execution_count": 68,
   "source": [
    "# Raw model output\r\n",
    "print(lr_model.coef_ @ X[10] + lr_model.intercept_)\r\n",
    "print(lr_model.coef_ @ X[20] + lr_model.intercept_)"
   ],
   "outputs": [
    {
     "output_type": "stream",
     "name": "stdout",
     "text": [
      "[-6.57470398]\n",
      "[5.40382589]\n"
     ]
    }
   ],
   "metadata": {}
  },
  {
   "cell_type": "markdown",
   "source": [
    "Starting at the boundary of the decision classifier the RMO is 0. As we move further away in each direction we either become more positive or negative, thus leading to a prediction."
   ],
   "metadata": {}
  },
  {
   "cell_type": "markdown",
   "source": [
    "Loss functions are part of almost all models. Some form of loss needs to be minimised for a model to be as accurate as it can be. Loss can be considered a penalty for doing poorly. \r\n",
    "- Think mean squared error. \r\n",
    "\r\n",
    "When deciding on a loss function it's important to consider the task at hand. MSE won't work for classifcation as it will output a range of values. We need either a 0 or 1 for binary classification. \r\n",
    "- Classification matrix/report.\r\n",
    "- Logistic loss.\r\n",
    "- Hinge loss. "
   ],
   "metadata": {}
  },
  {
   "cell_type": "markdown",
   "source": [
    "<img src = 'LossDiag.jpg' width = '600' height = '400'>"
   ],
   "metadata": {}
  },
  {
   "cell_type": "markdown",
   "source": [
    "# Logistic Regression"
   ],
   "metadata": {}
  },
  {
   "cell_type": "markdown",
   "source": [
    "In the supervised learning course it was shown that regularisation combats overfitting by penalising large coefficients. C (inverse of regularisation strenght) is an argument that can be passed into LogisiticRegression. A higher value of C will result in lower regularistaion. \r\n",
    " \r\n",
    "- L2: Ridge Regression - Weights are kept as small as possible. \r\n",
    "- L1: Lasso Regression - Eliminates unimportant features by completely removing those weights. "
   ],
   "metadata": {}
  },
  {
   "cell_type": "code",
   "execution_count": 69,
   "source": [
    "# Comparing C: \r\n",
    "wine = sklearn.datasets.load_wine()\r\n",
    "\r\n",
    "X = wine['data']\r\n",
    "y = wine['target']\r\n",
    "\r\n",
    "X_train, X_valid, y_train, y_valid = train_test_split(X, y, test_size = 0.2, random_state = 0)\r\n",
    "\r\n",
    "lr_weak = LogisticRegression(C = 100)\r\n",
    "lr_strong = LogisticRegression(C = 0.01)\r\n",
    "\r\n",
    "lr_weak.fit(X_train, y_train)\r\n",
    "lr_strong.fit(X_train, y_train)\r\n",
    "\r\n",
    "print(f'Weak Reg Training Score: {lr_weak.score(X_train, y_train)}')\r\n",
    "print(f'Strong Reg Training Score: {lr_strong.score(X_train, y_train)}')\r\n",
    "print(f'Weak Reg Test Score: {lr_weak.score(X_valid, y_valid)}')\r\n",
    "print(f'Strong Reg Test Score: {lr_strong.score(X_valid, y_valid)}')\r\n"
   ],
   "outputs": [
    {
     "output_type": "stream",
     "name": "stdout",
     "text": [
      "Weak Reg Training Score: 0.9788732394366197\n",
      "Strong Reg Training Score: 0.9436619718309859\n",
      "Weak Reg Test Score: 0.9166666666666666\n",
      "Strong Reg Test Score: 0.9444444444444444\n"
     ]
    },
    {
     "output_type": "stream",
     "name": "stderr",
     "text": [
      "C:\\Users\\Dillon\\anaconda3\\lib\\site-packages\\sklearn\\linear_model\\_logistic.py:763: ConvergenceWarning: lbfgs failed to converge (status=1):\n",
      "STOP: TOTAL NO. of ITERATIONS REACHED LIMIT.\n",
      "\n",
      "Increase the number of iterations (max_iter) or scale the data as shown in:\n",
      "    https://scikit-learn.org/stable/modules/preprocessing.html\n",
      "Please also refer to the documentation for alternative solver options:\n",
      "    https://scikit-learn.org/stable/modules/linear_model.html#logistic-regression\n",
      "  n_iter_i = _check_optimize_result(\n",
      "C:\\Users\\Dillon\\anaconda3\\lib\\site-packages\\sklearn\\linear_model\\_logistic.py:763: ConvergenceWarning: lbfgs failed to converge (status=1):\n",
      "STOP: TOTAL NO. of ITERATIONS REACHED LIMIT.\n",
      "\n",
      "Increase the number of iterations (max_iter) or scale the data as shown in:\n",
      "    https://scikit-learn.org/stable/modules/preprocessing.html\n",
      "Please also refer to the documentation for alternative solver options:\n",
      "    https://scikit-learn.org/stable/modules/linear_model.html#logistic-regression\n",
      "  n_iter_i = _check_optimize_result(\n"
     ]
    }
   ],
   "metadata": {}
  },
  {
   "cell_type": "markdown",
   "source": [
    "The model with weak regularisation gets a higher training accuracy. This is because all features are made available for training, and thus the model is prone to overfit. In comparison, the test set from the weaker regularisation model performs worse. It keeps the feature around, but not fully. Any features that drove the model will be taken out. "
   ],
   "metadata": {}
  },
  {
   "cell_type": "code",
   "execution_count": 70,
   "source": [
    "train_errors = []\r\n",
    "valid_errors = []\r\n",
    "\r\n",
    "C_value = [0.001, 0.01, 0.1, 1, 10, 100, 1000]\r\n",
    "\r\n",
    "X = wine['data']\r\n",
    "y = wine['target']\r\n",
    "\r\n",
    "for c in C_value:\r\n",
    "    lr_model = LogisticRegression(max_iter = 1000, C = c)\r\n",
    "    lr_model.fit(X_train, y_train)\r\n",
    "\r\n",
    "    train_errors.append(1 - lr_model.score(X_train, y_train))\r\n",
    "    valid_errors.append(1 - lr_model.score(X_valid, y_valid))\r\n",
    "\r\n",
    "plt.semilogx(C_value, train_errors, C_value, valid_errors)\r\n",
    "plt.xlabel('C')\r\n",
    "plt.ylabel('Classification Error')\r\n",
    "plt.legend((\"train\", \"validation\"))\r\n",
    "plt.show()"
   ],
   "outputs": [
    {
     "output_type": "stream",
     "name": "stderr",
     "text": [
      "C:\\Users\\Dillon\\anaconda3\\lib\\site-packages\\sklearn\\linear_model\\_logistic.py:763: ConvergenceWarning: lbfgs failed to converge (status=1):\n",
      "STOP: TOTAL NO. of ITERATIONS REACHED LIMIT.\n",
      "\n",
      "Increase the number of iterations (max_iter) or scale the data as shown in:\n",
      "    https://scikit-learn.org/stable/modules/preprocessing.html\n",
      "Please also refer to the documentation for alternative solver options:\n",
      "    https://scikit-learn.org/stable/modules/linear_model.html#logistic-regression\n",
      "  n_iter_i = _check_optimize_result(\n",
      "C:\\Users\\Dillon\\anaconda3\\lib\\site-packages\\sklearn\\linear_model\\_logistic.py:763: ConvergenceWarning: lbfgs failed to converge (status=1):\n",
      "STOP: TOTAL NO. of ITERATIONS REACHED LIMIT.\n",
      "\n",
      "Increase the number of iterations (max_iter) or scale the data as shown in:\n",
      "    https://scikit-learn.org/stable/modules/preprocessing.html\n",
      "Please also refer to the documentation for alternative solver options:\n",
      "    https://scikit-learn.org/stable/modules/linear_model.html#logistic-regression\n",
      "  n_iter_i = _check_optimize_result(\n",
      "C:\\Users\\Dillon\\anaconda3\\lib\\site-packages\\sklearn\\linear_model\\_logistic.py:763: ConvergenceWarning: lbfgs failed to converge (status=1):\n",
      "STOP: TOTAL NO. of ITERATIONS REACHED LIMIT.\n",
      "\n",
      "Increase the number of iterations (max_iter) or scale the data as shown in:\n",
      "    https://scikit-learn.org/stable/modules/preprocessing.html\n",
      "Please also refer to the documentation for alternative solver options:\n",
      "    https://scikit-learn.org/stable/modules/linear_model.html#logistic-regression\n",
      "  n_iter_i = _check_optimize_result(\n",
      "C:\\Users\\Dillon\\anaconda3\\lib\\site-packages\\sklearn\\linear_model\\_logistic.py:763: ConvergenceWarning: lbfgs failed to converge (status=1):\n",
      "STOP: TOTAL NO. of ITERATIONS REACHED LIMIT.\n",
      "\n",
      "Increase the number of iterations (max_iter) or scale the data as shown in:\n",
      "    https://scikit-learn.org/stable/modules/preprocessing.html\n",
      "Please also refer to the documentation for alternative solver options:\n",
      "    https://scikit-learn.org/stable/modules/linear_model.html#logistic-regression\n",
      "  n_iter_i = _check_optimize_result(\n",
      "C:\\Users\\Dillon\\anaconda3\\lib\\site-packages\\sklearn\\linear_model\\_logistic.py:763: ConvergenceWarning: lbfgs failed to converge (status=1):\n",
      "STOP: TOTAL NO. of ITERATIONS REACHED LIMIT.\n",
      "\n",
      "Increase the number of iterations (max_iter) or scale the data as shown in:\n",
      "    https://scikit-learn.org/stable/modules/preprocessing.html\n",
      "Please also refer to the documentation for alternative solver options:\n",
      "    https://scikit-learn.org/stable/modules/linear_model.html#logistic-regression\n",
      "  n_iter_i = _check_optimize_result(\n",
      "C:\\Users\\Dillon\\anaconda3\\lib\\site-packages\\sklearn\\linear_model\\_logistic.py:763: ConvergenceWarning: lbfgs failed to converge (status=1):\n",
      "STOP: TOTAL NO. of ITERATIONS REACHED LIMIT.\n",
      "\n",
      "Increase the number of iterations (max_iter) or scale the data as shown in:\n",
      "    https://scikit-learn.org/stable/modules/preprocessing.html\n",
      "Please also refer to the documentation for alternative solver options:\n",
      "    https://scikit-learn.org/stable/modules/linear_model.html#logistic-regression\n",
      "  n_iter_i = _check_optimize_result(\n"
     ]
    },
    {
     "output_type": "display_data",
     "data": {
      "image/png": "[encoded data removed]",
      "text/plain": [
       "<Figure size 432x288 with 1 Axes>"
      ]
     },
     "metadata": {
      "needs_background": "light"
     }
    }
   ],
   "metadata": {}
  },
  {
   "cell_type": "markdown",
   "source": [
    "Logistic Regression can also be used to predict probabilities, as opposed to classified 1s or 0s. The greater the regularisation (small c) the worse our confidence will be. Overconfidence = overfitting. These probabilities can be derived from the raw model output, which needs to be squashed using the sigmoid function."
   ],
   "metadata": {}
  },
  {
   "cell_type": "markdown",
   "source": [
    "## Multi-Class Logisitic Regression"
   ],
   "metadata": {}
  },
  {
   "cell_type": "markdown",
   "source": [
    "Multi-class is used for problems with more than two classes. \r\n",
    "- Can be done by combining multiple binary classifiers.\r\n",
    "- Or one-vs-rest.\r\n",
    "\r\n",
    "One thing to think about. If some data, 0, is partially embedded in data, 1, then one-vs-rest will get 0 completely wrong. Support Vector Machines can solve this! (Below)"
   ],
   "metadata": {}
  },
  {
   "cell_type": "code",
   "execution_count": 71,
   "source": [
    "# One-vs-rest (hard coded)\r\n",
    "\r\n",
    "X = wine['data']\r\n",
    "y = wine['target']\r\n",
    "\r\n",
    "lr0 = LogisticRegression()\r\n",
    "lr0.fit(X, y==0)\r\n",
    "\r\n",
    "lr1 = LogisticRegression()\r\n",
    "lr1.fit(X, y==1)\r\n",
    "\r\n",
    "lr2 = LogisticRegression()\r\n",
    "lr2.fit(X, y==2)\r\n",
    "\r\n",
    "# Raw model output - Most confident that lr0 will classify 0. \r\n",
    "lr0.decision_function(X)[0], lr1.decision_function(X)[0], lr2.decision_function(X)[0]"
   ],
   "outputs": [
    {
     "output_type": "stream",
     "name": "stderr",
     "text": [
      "C:\\Users\\Dillon\\anaconda3\\lib\\site-packages\\sklearn\\linear_model\\_logistic.py:763: ConvergenceWarning: lbfgs failed to converge (status=1):\n",
      "STOP: TOTAL NO. of ITERATIONS REACHED LIMIT.\n",
      "\n",
      "Increase the number of iterations (max_iter) or scale the data as shown in:\n",
      "    https://scikit-learn.org/stable/modules/preprocessing.html\n",
      "Please also refer to the documentation for alternative solver options:\n",
      "    https://scikit-learn.org/stable/modules/linear_model.html#logistic-regression\n",
      "  n_iter_i = _check_optimize_result(\n",
      "C:\\Users\\Dillon\\anaconda3\\lib\\site-packages\\sklearn\\linear_model\\_logistic.py:763: ConvergenceWarning: lbfgs failed to converge (status=1):\n",
      "STOP: TOTAL NO. of ITERATIONS REACHED LIMIT.\n",
      "\n",
      "Increase the number of iterations (max_iter) or scale the data as shown in:\n",
      "    https://scikit-learn.org/stable/modules/preprocessing.html\n",
      "Please also refer to the documentation for alternative solver options:\n",
      "    https://scikit-learn.org/stable/modules/linear_model.html#logistic-regression\n",
      "  n_iter_i = _check_optimize_result(\n",
      "C:\\Users\\Dillon\\anaconda3\\lib\\site-packages\\sklearn\\linear_model\\_logistic.py:763: ConvergenceWarning: lbfgs failed to converge (status=1):\n",
      "STOP: TOTAL NO. of ITERATIONS REACHED LIMIT.\n",
      "\n",
      "Increase the number of iterations (max_iter) or scale the data as shown in:\n",
      "    https://scikit-learn.org/stable/modules/preprocessing.html\n",
      "Please also refer to the documentation for alternative solver options:\n",
      "    https://scikit-learn.org/stable/modules/linear_model.html#logistic-regression\n",
      "  n_iter_i = _check_optimize_result(\n"
     ]
    },
    {
     "output_type": "execute_result",
     "data": {
      "text/plain": [
       "(5.89106890533225, -5.342393159540837, -7.574977554404708)"
      ]
     },
     "metadata": {},
     "execution_count": 71
    }
   ],
   "metadata": {}
  },
  {
   "cell_type": "code",
   "execution_count": 72,
   "source": [
    "# One-vs-rest is sklearn default.\r\n",
    "lr_model = LogisticRegression()\r\n",
    "lr_model.fit(X, y)\r\n",
    "\r\n",
    "lr_model.predict(X)[0]"
   ],
   "outputs": [
    {
     "output_type": "stream",
     "name": "stderr",
     "text": [
      "C:\\Users\\Dillon\\anaconda3\\lib\\site-packages\\sklearn\\linear_model\\_logistic.py:763: ConvergenceWarning: lbfgs failed to converge (status=1):\n",
      "STOP: TOTAL NO. of ITERATIONS REACHED LIMIT.\n",
      "\n",
      "Increase the number of iterations (max_iter) or scale the data as shown in:\n",
      "    https://scikit-learn.org/stable/modules/preprocessing.html\n",
      "Please also refer to the documentation for alternative solver options:\n",
      "    https://scikit-learn.org/stable/modules/linear_model.html#logistic-regression\n",
      "  n_iter_i = _check_optimize_result(\n"
     ]
    },
    {
     "output_type": "execute_result",
     "data": {
      "text/plain": [
       "0"
      ]
     },
     "metadata": {},
     "execution_count": 72
    }
   ],
   "metadata": {}
  },
  {
   "cell_type": "code",
   "execution_count": 73,
   "source": [
    "# For direct multiclass: \r\n",
    "lr_mc = LogisticRegression(multi_class='multinomial', solver='lbfgs')\r\n",
    "lr_mc.fit(X, y)\r\n",
    "\r\n",
    "# 3 rows for each class object\r\n",
    "lr_mc.coef_.shape, lr_mc.intercept_.shape"
   ],
   "outputs": [
    {
     "output_type": "stream",
     "name": "stderr",
     "text": [
      "C:\\Users\\Dillon\\anaconda3\\lib\\site-packages\\sklearn\\linear_model\\_logistic.py:763: ConvergenceWarning: lbfgs failed to converge (status=1):\n",
      "STOP: TOTAL NO. of ITERATIONS REACHED LIMIT.\n",
      "\n",
      "Increase the number of iterations (max_iter) or scale the data as shown in:\n",
      "    https://scikit-learn.org/stable/modules/preprocessing.html\n",
      "Please also refer to the documentation for alternative solver options:\n",
      "    https://scikit-learn.org/stable/modules/linear_model.html#logistic-regression\n",
      "  n_iter_i = _check_optimize_result(\n"
     ]
    },
    {
     "output_type": "execute_result",
     "data": {
      "text/plain": [
       "((3, 13), (3,))"
      ]
     },
     "metadata": {},
     "execution_count": 73
    }
   ],
   "metadata": {}
  },
  {
   "cell_type": "markdown",
   "source": [
    "# Support Vector Machines"
   ],
   "metadata": {}
  },
  {
   "cell_type": "markdown",
   "source": [
    "SVMs classify based on large margin classification. It aims to stay as far away from data clusters to give as wide a margin as possible. If we think of an SVM as creating a two lane road through the middle of the clusters, then the paths are the support vectors. The decision boundary will remain rigid even when new data is added.\r\n",
    "\r\n",
    "- SVMs are sensitive to scaling. They perform better with scaled data. \r\n",
    "\r\n",
    "Because of the hard boundary (the street) SVMs are best suited to linearly seperable data. This can be remedied with soft margin classification, which will try to minimise margin violations. \r\n",
    "\r\n",
    "- LinearSVC has C as a hyperparameter. A lower C will allow for many violations, but a wider margin."
   ],
   "metadata": {}
  },
  {
   "cell_type": "code",
   "execution_count": 137,
   "source": [
    "iris = sklearn.datasets.load_iris()\r\n",
    "\r\n",
    "X = iris['data'][:, (2,3)] # petal length, width\r\n",
    "y = iris['target'] == 2 # Iris virginica\r\n",
    "\r\n",
    "svm_model = Pipeline(steps = [\r\n",
    "    ('scaler', StandardScaler()),\r\n",
    "    ('model', SVC(C = 1))\r\n",
    "])\r\n",
    "\r\n",
    "svm_model.fit(X, y)\r\n",
    "svm_model.score(X,y)"
   ],
   "outputs": [
    {
     "output_type": "execute_result",
     "data": {
      "text/plain": [
       "0.9533333333333334"
      ]
     },
     "metadata": {},
     "execution_count": 137
    }
   ],
   "metadata": {}
  },
  {
   "cell_type": "code",
   "execution_count": 138,
   "source": [
    "plt.plot(X[:,0], X[:,1], marker = '.', linestyle = 'none', label = 'Original Data')\r\n",
    "plt.plot(X_support[:,0], X_support[:,1], marker = '.', linestyle = 'none', label = 'Support Vectors')\r\n",
    "plt.plot()\r\n",
    "plt.legend()\r\n",
    "plt.show()"
   ],
   "outputs": [
    {
     "output_type": "display_data",
     "data": {
      "image/png": "[encoded data removed]",
      "text/plain": [
       "<Figure size 432x288 with 1 Axes>"
      ]
     },
     "metadata": {
      "needs_background": "light"
     }
    }
   ],
   "metadata": {}
  },
  {
   "cell_type": "code",
   "execution_count": 146,
   "source": [
    "# Plot the decision boundary \r\n",
    "plot_decision_boundary(lambda X: svm_model.predict(X)) \r\n",
    "plt.title(\"SVM\") "
   ],
   "outputs": [
    {
     "output_type": "execute_result",
     "data": {
      "text/plain": [
       "Text(0.5, 1.0, 'SVM')"
      ]
     },
     "metadata": {},
     "execution_count": 146
    },
    {
     "output_type": "display_data",
     "data": {
      "image/png": "[encoded data removed]",
      "text/plain": [
       "<Figure size 432x288 with 1 Axes>"
      ]
     },
     "metadata": {
      "needs_background": "light"
     }
    }
   ],
   "metadata": {}
  },
  {
   "cell_type": "markdown",
   "source": [
    "Kernels can be used to fit decision boundaries to non-linear classification problems. It does this by transforming the samples so that they are linearly seperable, fitting the data, then transforming back to the original. "
   ],
   "metadata": {}
  },
  {
   "cell_type": "code",
   "execution_count": 150,
   "source": [
    "svm_model = SVC(gamma = 10) # Default kernel is rbf, gamma controls smoothness\r\n",
    "svm_model.fit(X, y)\r\n",
    "svm_model.score(X,y)"
   ],
   "outputs": [
    {
     "output_type": "execute_result",
     "data": {
      "text/plain": [
       "0.96"
      ]
     },
     "metadata": {},
     "execution_count": 150
    }
   ],
   "metadata": {}
  },
  {
   "cell_type": "code",
   "execution_count": 151,
   "source": [
    "plot_decision_boundary(lambda X: svm_model.predict(X)) \r\n",
    "plt.title(\"SVC\") "
   ],
   "outputs": [
    {
     "output_type": "execute_result",
     "data": {
      "text/plain": [
       "Text(0.5, 1.0, 'SVC')"
      ]
     },
     "metadata": {},
     "execution_count": 151
    },
    {
     "output_type": "display_data",
     "data": {
      "image/png": "[encoded data removed]",
      "text/plain": [
       "<Figure size 432x288 with 1 Axes>"
      ]
     },
     "metadata": {
      "needs_background": "light"
     }
    }
   ],
   "metadata": {}
  },
  {
   "cell_type": "markdown",
   "source": [
    "SVMs allow for the use of multiple kernels more efficiently than regression models. Further, the decision boundary is only affected by the support vectors. In LinearRegression, all data affects the boundary and extracting probabilities is easier. "
   ],
   "metadata": {}
  }
 ],
 "metadata": {
  "orig_nbformat": 4,
  "language_info": {
   "name": "python",
   "version": "3.8.8",
   "mimetype": "text/x-python",
   "codemirror_mode": {
    "name": "ipython",
    "version": 3
   },
   "pygments_lexer": "ipython3",
   "nbconvert_exporter": "python",
   "file_extension": ".py"
  },
  "kernelspec": {
   "name": "python3",
   "display_name": "Python 3.8.8 64-bit ('base': conda)"
  },
  "interpreter": {
   "hash": "1f84f7b07049c270ae310a61efe84cc8f32b0cc91cc3ea694d922bb06ba3069b"
  }
 },
 "nbformat": 4,
 "nbformat_minor": 2
}